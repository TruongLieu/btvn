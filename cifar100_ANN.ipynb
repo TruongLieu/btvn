{
  "nbformat": 4,
  "nbformat_minor": 0,
  "metadata": {
    "colab": {
      "name": "Bản sao của cifar100_ann.ipynb",
      "provenance": [],
      "collapsed_sections": []
    },
    "kernelspec": {
      "name": "python3",
      "display_name": "Python 3"
    },
    "language_info": {
      "name": "python"
    },
    "accelerator": "GPU"
  },
  "cells": [
    {
      "cell_type": "code",
      "execution_count": 1,
      "metadata": {
        "id": "DyIYAlVFKJS5"
      },
      "outputs": [],
      "source": [
        "import numpy as np\n",
        "import pandas as pd\n",
        "import cv2\n",
        "from keras.models import Sequential\n",
        "from tensorflow.keras import datasets, layers,models\n",
        "import matplotlib.pyplot as plt\n",
        "from tensorflow import keras\n",
        "from keras.layers import Dense, Activation,Dropout,Flatten\n",
        "from keras.datasets import cifar100\n",
        "from tensorflow.keras.optimizers import Adam\n",
        "from sklearn.preprocessing import StandardScaler\n",
        "from keras.utils import np_utils\n",
        "import tensorflow as tf"
      ]
    },
    {
      "cell_type": "code",
      "source": [
        "(x_train, y_train), (x_test, y_test) = cifar100.load_data()"
      ],
      "metadata": {
        "colab": {
          "base_uri": "https://localhost:8080/",
          "height": 0
        },
        "id": "c7-3mJNvKNlc",
        "outputId": "b7e2b2ed-3798-4c9a-fb2d-4597c67dc6f6"
      },
      "execution_count": 2,
      "outputs": [
        {
          "output_type": "stream",
          "name": "stdout",
          "text": [
            "Downloading data from https://www.cs.toronto.edu/~kriz/cifar-100-python.tar.gz\n",
            "169009152/169001437 [==============================] - 4s 0us/step\n",
            "169017344/169001437 [==============================] - 4s 0us/step\n"
          ]
        }
      ]
    },
    {
      "cell_type": "code",
      "source": [
        "x_pre = x_test\n",
        "y_ktr = y_test\n",
        "x_train = x_train.reshape(x_train.shape[0], -1)\n",
        "x_test = x_test.reshape(x_test.shape[0], -1)\n",
        "x_train = x_train.astype('float32')\n",
        "x_test = x_test.astype('float32')\n",
        "x_train /= 255\n",
        "x_test /= 255\n",
        "y_train = np_utils.to_categorical(y_train, 100)\n",
        "y_test = np_utils.to_categorical(y_test, 100)"
      ],
      "metadata": {
        "id": "O8vMv9sEKP8f"
      },
      "execution_count": 3,
      "outputs": []
    },
    {
      "cell_type": "code",
      "source": [
        "model = Sequential()\n",
        "model.add(Dense(512, activation='relu',\n",
        "input_shape = (x_train.shape[1],)))\n",
        "model.add(Dropout(0.2))\n",
        "model.add(Dense(256,activation='relu'))\n",
        "model.add(Dropout(0.1))\n",
        "model.add(Dense(100,activation='softmax'))\n",
        "model.summary()\n",
        "model.compile(loss='mean_squared_error',optimizer =Adam(), metrics=['acc'])\n",
        "history = model.fit(x_train, y_train, batch_size =256, epochs = 100, validation_split = 0.2)"
      ],
      "metadata": {
        "colab": {
          "base_uri": "https://localhost:8080/",
          "height": 0
        },
        "id": "CO3T3hhoKRjc",
        "outputId": "0a862f90-bd00-4f32-88a8-0c3ae51bb6f5"
      },
      "execution_count": 4,
      "outputs": [
        {
          "output_type": "stream",
          "name": "stdout",
          "text": [
            "Model: \"sequential\"\n",
            "_________________________________________________________________\n",
            " Layer (type)                Output Shape              Param #   \n",
            "=================================================================\n",
            " dense (Dense)               (None, 512)               1573376   \n",
            "                                                                 \n",
            " dropout (Dropout)           (None, 512)               0         \n",
            "                                                                 \n",
            " dense_1 (Dense)             (None, 256)               131328    \n",
            "                                                                 \n",
            " dropout_1 (Dropout)         (None, 256)               0         \n",
            "                                                                 \n",
            " dense_2 (Dense)             (None, 100)               25700     \n",
            "                                                                 \n",
            "=================================================================\n",
            "Total params: 1,730,404\n",
            "Trainable params: 1,730,404\n",
            "Non-trainable params: 0\n",
            "_________________________________________________________________\n",
            "Epoch 1/100\n",
            "157/157 [==============================] - 4s 7ms/step - loss: 0.0098 - acc: 0.0405 - val_loss: 0.0097 - val_acc: 0.0636\n",
            "Epoch 2/100\n",
            "157/157 [==============================] - 1s 6ms/step - loss: 0.0097 - acc: 0.0727 - val_loss: 0.0096 - val_acc: 0.0879\n",
            "Epoch 3/100\n",
            "157/157 [==============================] - 1s 6ms/step - loss: 0.0096 - acc: 0.0897 - val_loss: 0.0095 - val_acc: 0.1122\n",
            "Epoch 4/100\n",
            "157/157 [==============================] - 1s 6ms/step - loss: 0.0096 - acc: 0.1035 - val_loss: 0.0094 - val_acc: 0.1310\n",
            "Epoch 5/100\n",
            "157/157 [==============================] - 1s 6ms/step - loss: 0.0095 - acc: 0.1105 - val_loss: 0.0095 - val_acc: 0.1277\n",
            "Epoch 6/100\n",
            "157/157 [==============================] - 1s 6ms/step - loss: 0.0095 - acc: 0.1179 - val_loss: 0.0094 - val_acc: 0.1280\n",
            "Epoch 7/100\n",
            "157/157 [==============================] - 1s 6ms/step - loss: 0.0094 - acc: 0.1253 - val_loss: 0.0094 - val_acc: 0.1448\n",
            "Epoch 8/100\n",
            "157/157 [==============================] - 1s 6ms/step - loss: 0.0094 - acc: 0.1314 - val_loss: 0.0093 - val_acc: 0.1487\n",
            "Epoch 9/100\n",
            "157/157 [==============================] - 1s 6ms/step - loss: 0.0094 - acc: 0.1401 - val_loss: 0.0093 - val_acc: 0.1533\n",
            "Epoch 10/100\n",
            "157/157 [==============================] - 1s 6ms/step - loss: 0.0093 - acc: 0.1431 - val_loss: 0.0092 - val_acc: 0.1625\n",
            "Epoch 11/100\n",
            "157/157 [==============================] - 1s 6ms/step - loss: 0.0093 - acc: 0.1475 - val_loss: 0.0093 - val_acc: 0.1624\n",
            "Epoch 12/100\n",
            "157/157 [==============================] - 1s 6ms/step - loss: 0.0093 - acc: 0.1514 - val_loss: 0.0092 - val_acc: 0.1595\n",
            "Epoch 13/100\n",
            "157/157 [==============================] - 1s 6ms/step - loss: 0.0093 - acc: 0.1556 - val_loss: 0.0092 - val_acc: 0.1682\n",
            "Epoch 14/100\n",
            "157/157 [==============================] - 1s 6ms/step - loss: 0.0092 - acc: 0.1629 - val_loss: 0.0092 - val_acc: 0.1716\n",
            "Epoch 15/100\n",
            "157/157 [==============================] - 1s 6ms/step - loss: 0.0092 - acc: 0.1639 - val_loss: 0.0092 - val_acc: 0.1694\n",
            "Epoch 16/100\n",
            "157/157 [==============================] - 1s 6ms/step - loss: 0.0092 - acc: 0.1690 - val_loss: 0.0091 - val_acc: 0.1792\n",
            "Epoch 17/100\n",
            "157/157 [==============================] - 1s 6ms/step - loss: 0.0092 - acc: 0.1691 - val_loss: 0.0091 - val_acc: 0.1875\n",
            "Epoch 18/100\n",
            "157/157 [==============================] - 1s 6ms/step - loss: 0.0091 - acc: 0.1755 - val_loss: 0.0091 - val_acc: 0.1853\n",
            "Epoch 19/100\n",
            "157/157 [==============================] - 1s 6ms/step - loss: 0.0091 - acc: 0.1780 - val_loss: 0.0092 - val_acc: 0.1759\n",
            "Epoch 20/100\n",
            "157/157 [==============================] - 1s 6ms/step - loss: 0.0091 - acc: 0.1804 - val_loss: 0.0091 - val_acc: 0.1895\n",
            "Epoch 21/100\n",
            "157/157 [==============================] - 1s 6ms/step - loss: 0.0091 - acc: 0.1854 - val_loss: 0.0091 - val_acc: 0.1896\n",
            "Epoch 22/100\n",
            "157/157 [==============================] - 1s 6ms/step - loss: 0.0091 - acc: 0.1872 - val_loss: 0.0091 - val_acc: 0.1839\n",
            "Epoch 23/100\n",
            "157/157 [==============================] - 1s 6ms/step - loss: 0.0090 - acc: 0.1881 - val_loss: 0.0091 - val_acc: 0.1832\n",
            "Epoch 24/100\n",
            "157/157 [==============================] - 1s 6ms/step - loss: 0.0090 - acc: 0.1896 - val_loss: 0.0091 - val_acc: 0.1923\n",
            "Epoch 25/100\n",
            "157/157 [==============================] - 1s 5ms/step - loss: 0.0090 - acc: 0.1935 - val_loss: 0.0090 - val_acc: 0.1994\n",
            "Epoch 26/100\n",
            "157/157 [==============================] - 1s 6ms/step - loss: 0.0090 - acc: 0.1964 - val_loss: 0.0091 - val_acc: 0.1928\n",
            "Epoch 27/100\n",
            "157/157 [==============================] - 1s 6ms/step - loss: 0.0090 - acc: 0.2000 - val_loss: 0.0090 - val_acc: 0.2010\n",
            "Epoch 28/100\n",
            "157/157 [==============================] - 1s 6ms/step - loss: 0.0090 - acc: 0.2007 - val_loss: 0.0090 - val_acc: 0.1989\n",
            "Epoch 29/100\n",
            "157/157 [==============================] - 1s 6ms/step - loss: 0.0090 - acc: 0.2037 - val_loss: 0.0090 - val_acc: 0.1973\n",
            "Epoch 30/100\n",
            "157/157 [==============================] - 1s 6ms/step - loss: 0.0089 - acc: 0.2037 - val_loss: 0.0090 - val_acc: 0.1949\n",
            "Epoch 31/100\n",
            "157/157 [==============================] - 1s 6ms/step - loss: 0.0089 - acc: 0.2060 - val_loss: 0.0090 - val_acc: 0.1985\n",
            "Epoch 32/100\n",
            "157/157 [==============================] - 1s 6ms/step - loss: 0.0089 - acc: 0.2049 - val_loss: 0.0090 - val_acc: 0.1961\n",
            "Epoch 33/100\n",
            "157/157 [==============================] - 1s 6ms/step - loss: 0.0089 - acc: 0.2098 - val_loss: 0.0091 - val_acc: 0.1881\n",
            "Epoch 34/100\n",
            "157/157 [==============================] - 1s 6ms/step - loss: 0.0089 - acc: 0.2128 - val_loss: 0.0090 - val_acc: 0.2014\n",
            "Epoch 35/100\n",
            "157/157 [==============================] - 1s 6ms/step - loss: 0.0088 - acc: 0.2180 - val_loss: 0.0090 - val_acc: 0.2016\n",
            "Epoch 36/100\n",
            "157/157 [==============================] - 1s 6ms/step - loss: 0.0088 - acc: 0.2167 - val_loss: 0.0090 - val_acc: 0.2057\n",
            "Epoch 37/100\n",
            "157/157 [==============================] - 1s 6ms/step - loss: 0.0088 - acc: 0.2178 - val_loss: 0.0090 - val_acc: 0.2074\n",
            "Epoch 38/100\n",
            "157/157 [==============================] - 1s 6ms/step - loss: 0.0088 - acc: 0.2215 - val_loss: 0.0090 - val_acc: 0.1967\n",
            "Epoch 39/100\n",
            "157/157 [==============================] - 1s 6ms/step - loss: 0.0088 - acc: 0.2181 - val_loss: 0.0089 - val_acc: 0.2101\n",
            "Epoch 40/100\n",
            "157/157 [==============================] - 1s 6ms/step - loss: 0.0088 - acc: 0.2198 - val_loss: 0.0090 - val_acc: 0.2088\n",
            "Epoch 41/100\n",
            "157/157 [==============================] - 1s 6ms/step - loss: 0.0088 - acc: 0.2222 - val_loss: 0.0089 - val_acc: 0.2071\n",
            "Epoch 42/100\n",
            "157/157 [==============================] - 1s 6ms/step - loss: 0.0088 - acc: 0.2245 - val_loss: 0.0090 - val_acc: 0.2063\n",
            "Epoch 43/100\n",
            "157/157 [==============================] - 1s 6ms/step - loss: 0.0088 - acc: 0.2290 - val_loss: 0.0090 - val_acc: 0.2040\n",
            "Epoch 44/100\n",
            "157/157 [==============================] - 1s 6ms/step - loss: 0.0087 - acc: 0.2294 - val_loss: 0.0090 - val_acc: 0.2031\n",
            "Epoch 45/100\n",
            "157/157 [==============================] - 1s 6ms/step - loss: 0.0087 - acc: 0.2308 - val_loss: 0.0090 - val_acc: 0.2076\n",
            "Epoch 46/100\n",
            "157/157 [==============================] - 1s 6ms/step - loss: 0.0087 - acc: 0.2336 - val_loss: 0.0089 - val_acc: 0.2046\n",
            "Epoch 47/100\n",
            "157/157 [==============================] - 1s 6ms/step - loss: 0.0087 - acc: 0.2341 - val_loss: 0.0089 - val_acc: 0.2131\n",
            "Epoch 48/100\n",
            "157/157 [==============================] - 1s 6ms/step - loss: 0.0087 - acc: 0.2359 - val_loss: 0.0089 - val_acc: 0.2136\n",
            "Epoch 49/100\n",
            "157/157 [==============================] - 1s 6ms/step - loss: 0.0087 - acc: 0.2350 - val_loss: 0.0089 - val_acc: 0.2110\n",
            "Epoch 50/100\n",
            "157/157 [==============================] - 1s 6ms/step - loss: 0.0087 - acc: 0.2360 - val_loss: 0.0089 - val_acc: 0.2085\n",
            "Epoch 51/100\n",
            "157/157 [==============================] - 1s 6ms/step - loss: 0.0087 - acc: 0.2394 - val_loss: 0.0089 - val_acc: 0.2095\n",
            "Epoch 52/100\n",
            "157/157 [==============================] - 1s 5ms/step - loss: 0.0087 - acc: 0.2410 - val_loss: 0.0090 - val_acc: 0.2047\n",
            "Epoch 53/100\n",
            "157/157 [==============================] - 1s 6ms/step - loss: 0.0086 - acc: 0.2392 - val_loss: 0.0090 - val_acc: 0.2048\n",
            "Epoch 54/100\n",
            "157/157 [==============================] - 1s 6ms/step - loss: 0.0086 - acc: 0.2441 - val_loss: 0.0089 - val_acc: 0.2177\n",
            "Epoch 55/100\n",
            "157/157 [==============================] - 1s 6ms/step - loss: 0.0086 - acc: 0.2455 - val_loss: 0.0089 - val_acc: 0.2117\n",
            "Epoch 56/100\n",
            "157/157 [==============================] - 1s 6ms/step - loss: 0.0086 - acc: 0.2475 - val_loss: 0.0090 - val_acc: 0.2048\n",
            "Epoch 57/100\n",
            "157/157 [==============================] - 1s 5ms/step - loss: 0.0086 - acc: 0.2458 - val_loss: 0.0089 - val_acc: 0.2143\n",
            "Epoch 58/100\n",
            "157/157 [==============================] - 1s 6ms/step - loss: 0.0086 - acc: 0.2475 - val_loss: 0.0089 - val_acc: 0.2142\n",
            "Epoch 59/100\n",
            "157/157 [==============================] - 1s 6ms/step - loss: 0.0086 - acc: 0.2492 - val_loss: 0.0089 - val_acc: 0.2084\n",
            "Epoch 60/100\n",
            "157/157 [==============================] - 1s 6ms/step - loss: 0.0086 - acc: 0.2490 - val_loss: 0.0089 - val_acc: 0.2148\n",
            "Epoch 61/100\n",
            "157/157 [==============================] - 1s 6ms/step - loss: 0.0085 - acc: 0.2546 - val_loss: 0.0089 - val_acc: 0.2141\n",
            "Epoch 62/100\n",
            "157/157 [==============================] - 1s 6ms/step - loss: 0.0086 - acc: 0.2482 - val_loss: 0.0089 - val_acc: 0.2139\n",
            "Epoch 63/100\n",
            "157/157 [==============================] - 1s 6ms/step - loss: 0.0085 - acc: 0.2528 - val_loss: 0.0089 - val_acc: 0.2117\n",
            "Epoch 64/100\n",
            "157/157 [==============================] - 1s 6ms/step - loss: 0.0085 - acc: 0.2578 - val_loss: 0.0089 - val_acc: 0.2157\n",
            "Epoch 65/100\n",
            "157/157 [==============================] - 1s 6ms/step - loss: 0.0085 - acc: 0.2581 - val_loss: 0.0090 - val_acc: 0.2054\n",
            "Epoch 66/100\n",
            "157/157 [==============================] - 1s 6ms/step - loss: 0.0085 - acc: 0.2514 - val_loss: 0.0089 - val_acc: 0.2110\n",
            "Epoch 67/100\n",
            "157/157 [==============================] - 1s 5ms/step - loss: 0.0085 - acc: 0.2574 - val_loss: 0.0089 - val_acc: 0.2172\n",
            "Epoch 68/100\n",
            "157/157 [==============================] - 1s 6ms/step - loss: 0.0085 - acc: 0.2600 - val_loss: 0.0089 - val_acc: 0.2087\n",
            "Epoch 69/100\n",
            "157/157 [==============================] - 1s 6ms/step - loss: 0.0085 - acc: 0.2581 - val_loss: 0.0089 - val_acc: 0.2139\n",
            "Epoch 70/100\n",
            "157/157 [==============================] - 1s 6ms/step - loss: 0.0085 - acc: 0.2571 - val_loss: 0.0089 - val_acc: 0.2115\n",
            "Epoch 71/100\n",
            "157/157 [==============================] - 1s 6ms/step - loss: 0.0085 - acc: 0.2602 - val_loss: 0.0089 - val_acc: 0.2108\n",
            "Epoch 72/100\n",
            "157/157 [==============================] - 1s 6ms/step - loss: 0.0085 - acc: 0.2607 - val_loss: 0.0089 - val_acc: 0.2097\n",
            "Epoch 73/100\n",
            "157/157 [==============================] - 1s 6ms/step - loss: 0.0085 - acc: 0.2633 - val_loss: 0.0089 - val_acc: 0.2116\n",
            "Epoch 74/100\n",
            "157/157 [==============================] - 1s 6ms/step - loss: 0.0085 - acc: 0.2644 - val_loss: 0.0089 - val_acc: 0.2198\n",
            "Epoch 75/100\n",
            "157/157 [==============================] - 1s 6ms/step - loss: 0.0084 - acc: 0.2662 - val_loss: 0.0089 - val_acc: 0.2129\n",
            "Epoch 76/100\n",
            "157/157 [==============================] - 1s 6ms/step - loss: 0.0085 - acc: 0.2638 - val_loss: 0.0089 - val_acc: 0.2127\n",
            "Epoch 77/100\n",
            "157/157 [==============================] - 1s 6ms/step - loss: 0.0085 - acc: 0.2652 - val_loss: 0.0089 - val_acc: 0.2196\n",
            "Epoch 78/100\n",
            "157/157 [==============================] - 1s 6ms/step - loss: 0.0084 - acc: 0.2674 - val_loss: 0.0090 - val_acc: 0.2087\n",
            "Epoch 79/100\n",
            "157/157 [==============================] - 1s 8ms/step - loss: 0.0084 - acc: 0.2683 - val_loss: 0.0089 - val_acc: 0.2125\n",
            "Epoch 80/100\n",
            "157/157 [==============================] - 1s 8ms/step - loss: 0.0084 - acc: 0.2705 - val_loss: 0.0089 - val_acc: 0.2134\n",
            "Epoch 81/100\n",
            "157/157 [==============================] - 1s 8ms/step - loss: 0.0084 - acc: 0.2679 - val_loss: 0.0089 - val_acc: 0.2170\n",
            "Epoch 82/100\n",
            "157/157 [==============================] - 1s 6ms/step - loss: 0.0084 - acc: 0.2711 - val_loss: 0.0089 - val_acc: 0.2142\n",
            "Epoch 83/100\n",
            "157/157 [==============================] - 1s 6ms/step - loss: 0.0084 - acc: 0.2686 - val_loss: 0.0090 - val_acc: 0.2108\n",
            "Epoch 84/100\n",
            "157/157 [==============================] - 1s 6ms/step - loss: 0.0084 - acc: 0.2760 - val_loss: 0.0090 - val_acc: 0.2094\n",
            "Epoch 85/100\n",
            "157/157 [==============================] - 1s 6ms/step - loss: 0.0083 - acc: 0.2778 - val_loss: 0.0089 - val_acc: 0.2139\n",
            "Epoch 86/100\n",
            "157/157 [==============================] - 1s 6ms/step - loss: 0.0084 - acc: 0.2729 - val_loss: 0.0089 - val_acc: 0.2153\n",
            "Epoch 87/100\n",
            "157/157 [==============================] - 1s 6ms/step - loss: 0.0084 - acc: 0.2768 - val_loss: 0.0090 - val_acc: 0.2106\n",
            "Epoch 88/100\n",
            "157/157 [==============================] - 1s 6ms/step - loss: 0.0084 - acc: 0.2752 - val_loss: 0.0089 - val_acc: 0.2135\n",
            "Epoch 89/100\n",
            "157/157 [==============================] - 1s 6ms/step - loss: 0.0083 - acc: 0.2802 - val_loss: 0.0089 - val_acc: 0.2146\n",
            "Epoch 90/100\n",
            "157/157 [==============================] - 1s 6ms/step - loss: 0.0083 - acc: 0.2768 - val_loss: 0.0089 - val_acc: 0.2149\n",
            "Epoch 91/100\n",
            "157/157 [==============================] - 1s 6ms/step - loss: 0.0083 - acc: 0.2783 - val_loss: 0.0089 - val_acc: 0.2162\n",
            "Epoch 92/100\n",
            "157/157 [==============================] - 1s 6ms/step - loss: 0.0083 - acc: 0.2815 - val_loss: 0.0089 - val_acc: 0.2138\n",
            "Epoch 93/100\n",
            "157/157 [==============================] - 1s 6ms/step - loss: 0.0083 - acc: 0.2822 - val_loss: 0.0089 - val_acc: 0.2128\n",
            "Epoch 94/100\n",
            "157/157 [==============================] - 1s 6ms/step - loss: 0.0083 - acc: 0.2794 - val_loss: 0.0089 - val_acc: 0.2157\n",
            "Epoch 95/100\n",
            "157/157 [==============================] - 1s 6ms/step - loss: 0.0083 - acc: 0.2837 - val_loss: 0.0090 - val_acc: 0.2151\n",
            "Epoch 96/100\n",
            "157/157 [==============================] - 1s 6ms/step - loss: 0.0083 - acc: 0.2830 - val_loss: 0.0090 - val_acc: 0.2113\n",
            "Epoch 97/100\n",
            "157/157 [==============================] - 1s 6ms/step - loss: 0.0083 - acc: 0.2813 - val_loss: 0.0090 - val_acc: 0.2122\n",
            "Epoch 98/100\n",
            "157/157 [==============================] - 1s 6ms/step - loss: 0.0083 - acc: 0.2851 - val_loss: 0.0089 - val_acc: 0.2122\n",
            "Epoch 99/100\n",
            "157/157 [==============================] - 1s 6ms/step - loss: 0.0083 - acc: 0.2855 - val_loss: 0.0089 - val_acc: 0.2177\n",
            "Epoch 100/100\n",
            "157/157 [==============================] - 1s 6ms/step - loss: 0.0083 - acc: 0.2843 - val_loss: 0.0090 - val_acc: 0.2089\n"
          ]
        }
      ]
    },
    {
      "cell_type": "code",
      "source": [
        "plt.subplot(211)\n",
        "plt.title('val_loss')\n",
        "plt.plot(history.history['val_loss'], color='red',\n",
        "label='train')"
      ],
      "metadata": {
        "colab": {
          "base_uri": "https://localhost:8080/",
          "height": 180
        },
        "id": "bzxdyA0IMkOk",
        "outputId": "7372493d-bef6-4ee9-df37-29ed3f92688e"
      },
      "execution_count": 6,
      "outputs": [
        {
          "output_type": "execute_result",
          "data": {
            "text/plain": [
              "[<matplotlib.lines.Line2D at 0x7fc07a105d90>]"
            ]
          },
          "metadata": {},
          "execution_count": 6
        },
        {
          "output_type": "display_data",
          "data": {
            "text/plain": [
              "<Figure size 432x288 with 1 Axes>"
            ],
            "image/png": "[encoded data removed]"
          },
          "metadata": {
            "needs_background": "light"
          }
        }
      ]
    },
    {
      "cell_type": "code",
      "source": [
        "model.save('cifar100_ann.h5')"
      ],
      "metadata": {
        "id": "9sMToF9dMl1r"
      },
      "execution_count": 7,
      "outputs": []
    },
    {
      "cell_type": "code",
      "source": [
        "plt.subplot(212)\n",
        "plt.title('Val Accuracy')\n",
        "plt.plot(history.history['val_acc'], color='blue',\n",
        "label='train')\n",
        "test =18\n",
        "Label = ['apple', 'aquarium_fish', 'baby', 'bear','beaver', 'bed', 'bee', 'beetle', 'bicycle', 'bottle','bowl', 'boy', \n",
        "'bridge', 'bus', 'butterfly', 'camel','can', 'castle', 'caterpillar', 'cattle', 'chair','chimpanzee', 'clock', \n",
        "'cloud', 'cockroach', 'couch','crab', 'crocodile', 'cup', 'dinosaur', 'dolphin','elephant', 'flatfish', 'forest', 'fox', 'girl', 'hamster',\n",
        "'house', 'kangaroo', 'keyboard', 'lamp','lawn_mower', 'leopard', 'lion', 'lizard', 'lobster',\n",
        "'man', 'maple_tree', 'motorcycle', 'mountain','mouse', 'mushroom', 'oak_tree', 'orange', 'orchid',\n",
        "'otter', 'palm_tree', 'pear', 'pickup_truck','pine_tree', 'plain', 'plate', 'poppy', 'porcupine',\n",
        "'possum', 'rabbit', 'raccoon', 'ray', 'road', 'rocket','rose', 'sea', 'seal', 'shark', 'shrew', 'skunk',\n",
        "'skyscraper', 'snail', 'snake', 'spider', 'squirrel','streetcar', 'sunflower', 'sweet_pepper', 'table',\n",
        "'tank', 'telephone', 'television', 'tiger', 'tractor','train', 'trout', 'tulip', 'turtle', 'wardrobe', 'whale',\n",
        "'willow_tree', 'wolf', 'woman', 'worm']\n",
        "plt.title(\" Object: \" +\n",
        "str(Label[np.argmax(model.predict(x_pre[test].reshape(-1,3072)))]))\n",
        "plt.imshow(x_pre[test],cmap=plt.get_cmap('gray'))"
      ],
      "metadata": {
        "colab": {
          "base_uri": "https://localhost:8080/",
          "height": 180
        },
        "id": "T8cUV75pMsiU",
        "outputId": "1e1b29ca-ab83-4501-82f2-40d616aae623"
      },
      "execution_count": 14,
      "outputs": [
        {
          "output_type": "execute_result",
          "data": {
            "text/plain": [
              "<matplotlib.image.AxesImage at 0x7fc065949fd0>"
            ]
          },
          "metadata": {},
          "execution_count": 14
        },
        {
          "output_type": "display_data",
          "data": {
            "text/plain": [
              "<Figure size 432x288 with 1 Axes>"
            ],
            "image/png": "[encoded data removed]"
          },
          "metadata": {
            "needs_background": "light"
          }
        }
      ]
    },
    {
      "cell_type": "code",
      "source": [
        ""
      ],
      "metadata": {
        "id": "VSZOU3DCy_1b"
      },
      "execution_count": null,
      "outputs": []
    }
  ]
}