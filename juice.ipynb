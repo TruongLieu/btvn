{
  "cells": [
    {
      "cell_type": "code",
      "execution_count": 1,
      "metadata": {
        "colab": {
          "base_uri": "https://localhost:8080/",
          "height": 0
        },
        "id": "RBMMlzODGuFF",
        "outputId": "b50b9420-9be9-44f9-b302-a5487923d68d"
      },
      "outputs": [
        {
          "output_type": "stream",
          "name": "stdout",
          "text": [
            "Collecting bing_image_downloader\n",
            "  Downloading bing_image_downloader-1.1.2-py3-none-any.whl (5.9 kB)\n",
            "Installing collected packages: bing-image-downloader\n",
            "Successfully installed bing-image-downloader-1.1.2\n"
          ]
        }
      ],
      "source": [
        "pip install bing_image_downloader"
      ]
    },
    {
      "cell_type": "code",
      "execution_count": null,
      "metadata": {
        "colab": {
          "base_uri": "https://localhost:8080/"
        },
        "id": "NCo4c-KCEjdH",
        "outputId": "cf37b894-d792-44b1-b7cf-e808ddc34f29"
      },
      "outputs": [
        {
          "output_type": "stream",
          "name": "stdout",
          "text": [
            "[%] Downloading Images to /content/drive/MyDrive/AIdataset/apple\n",
            "\n",
            "\n",
            "[!!]Indexing page: 1\n",
            "\n",
            "[%] Indexed 10 Images on Page 1.\n",
            "\n",
            "===============================================\n",
            "\n",
            "[%] Downloading Image #1 from https://pngimg.com/uploads/apple/apple_PNG12405.png\n",
            "[%] File Downloaded !\n",
            "\n",
            "[%] Downloading Image #2 from https://pngimg.com/uploads/apple/apple_PNG12400.png\n",
            "[%] File Downloaded !\n",
            "\n",
            "[%] Downloading Image #3 from https://image.made-in-china.com/2f0j00zMpQkAEFYZrt/Fresh-Apple.jpg\n",
            "[%] File Downloaded !\n",
            "\n",
            "[%] Downloading Image #4 from https://static.agcanada.com/wp-content/uploads/sites/5/2018/11/apple_GettyImages186843005_cmyk.jpg\n",
            "[%] File Downloaded !\n",
            "\n",
            "[%] Downloading Image #5 from https://www.theprairiehomestead.com/wp-content/uploads/2014/10/150.jpg\n",
            "[%] File Downloaded !\n",
            "\n",
            "[%] Downloading Image #6 from https://minnetonkaorchards.com/wp-content/uploads/2020/08/Ambrosia-Apples.jpg\n",
            "[%] File Downloaded !\n",
            "\n",
            "[%] Downloading Image #7 from https://steemitimages.com/DQmcYcC6LMxeKJdD582pvV124b3vgJvWdu6m7Xjhn14ACND/Apple.jpg\n",
            "[%] File Downloaded !\n",
            "\n",
            "[%] Downloading Image #8 from https://greatthingsgrowhere.co.nz/wp-content/uploads/2016/09/apple-tree1.jpg\n",
            "[Error]Invalid image, not saving https://greatthingsgrowhere.co.nz/wp-content/uploads/2016/09/apple-tree1.jpg\n",
            "\n",
            "[!] Issue getting: https://greatthingsgrowhere.co.nz/wp-content/uploads/2016/09/apple-tree1.jpg\n",
            "[!] Error:: Invalid image, not saving https://greatthingsgrowhere.co.nz/wp-content/uploads/2016/09/apple-tree1.jpg\n",
            "\n",
            "[%] Downloading Image #8 from https://gravitybazar.com/wp-content/uploads/2020/10/gravity-bazar-green-apple.jpg\n",
            "[%] File Downloaded !\n",
            "\n",
            "[%] Downloading Image #9 from http://i.gzn.jp/img/2008/11/12/apple_logo_nobon/apple_apple02.jpg\n",
            "[%] File Downloaded !\n",
            "\n",
            "\n",
            "\n",
            "[!!]Indexing page: 2\n",
            "\n",
            "[%] Indexed 35 Images on Page 2.\n",
            "\n",
            "===============================================\n",
            "\n",
            "[%] Downloading Image #10 from http://upload.wikimedia.org/wikipedia/commons/3/3b/Apple-003.jpg\n",
            "[%] File Downloaded !\n",
            "\n",
            "\n",
            "\n",
            "[%] Done. Downloaded 10 images.\n",
            "[%] Downloading Images to /content/drive/MyDrive/AIdataset/banana\n",
            "\n",
            "\n",
            "[!!]Indexing page: 1\n",
            "\n",
            "[%] Indexed 10 Images on Page 1.\n",
            "\n",
            "===============================================\n",
            "\n",
            "[%] Downloading Image #1 from http://upload.wikimedia.org/wikipedia/commons/9/99/Bananas.JPG\n",
            "[%] File Downloaded !\n",
            "\n",
            "[%] Downloading Image #2 from http://pamsdailydish.com/wp-content/uploads/2015/04/Bunch-Bananas-2.jpg\n",
            "[%] File Downloaded !\n",
            "\n",
            "[%] Downloading Image #3 from http://images6.fanpop.com/image/photos/34500000/Banana-3-bananas-34512789-1000-1000.jpg\n",
            "[%] File Downloaded !\n",
            "\n",
            "[%] Downloading Image #4 from https://wallpapercave.com/wp/wp5042627.jpg\n",
            "[%] File Downloaded !\n",
            "\n",
            "[%] Downloading Image #5 from https://cdn.sanity.io/images/02sbe50v/content/eb6e96314208c65e877a58d420cfaafc7f1bb490-6000x4000.jpg\n",
            "[Error]Invalid image, not saving https://cdn.sanity.io/images/02sbe50v/content/eb6e96314208c65e877a58d420cfaafc7f1bb490-6000x4000.jpg\n",
            "\n",
            "[!] Issue getting: https://cdn.sanity.io/images/02sbe50v/content/eb6e96314208c65e877a58d420cfaafc7f1bb490-6000x4000.jpg\n",
            "[!] Error:: Invalid image, not saving https://cdn.sanity.io/images/02sbe50v/content/eb6e96314208c65e877a58d420cfaafc7f1bb490-6000x4000.jpg\n",
            "\n",
            "[%] Downloading Image #5 from https://3.bp.blogspot.com/-8K_D47jEkxs/UJeoCWpKJFI/AAAAAAAABfg/bXlUIV7GKxE/s1600/20121104_Banana_11.JPG\n",
            "[%] File Downloaded !\n",
            "\n",
            "[%] Downloading Image #6 from http://upload.wikimedia.org/wikipedia/commons/b/b6/3_Bananas.jpg\n",
            "[%] File Downloaded !\n",
            "\n",
            "[%] Downloading Image #7 from https://www.humphreysfarm.com/productcart/pc/catalog/5509-lg.jpg\n",
            "[%] File Downloaded !\n",
            "\n",
            "[%] Downloading Image #8 from https://prod-admin-images.s3.ap-south-1.amazonaws.com/7x2Ps1g9Ho9XCt2IpV1E-1/product/0117-BananaSmallMysore500gm16.jpg\n",
            "[%] File Downloaded !\n",
            "\n",
            "[%] Downloading Image #9 from https://www.samuitimes.com/wp-content/uploads/2013/08/bananas-2.jpg\n",
            "[%] File Downloaded !\n",
            "\n",
            "\n",
            "\n",
            "[!!]Indexing page: 2\n",
            "\n",
            "[%] Indexed 36 Images on Page 2.\n",
            "\n",
            "===============================================\n",
            "\n",
            "[%] Downloading Image #10 from https://i.ytimg.com/vi/tqnQdN4rDWU/hqdefault.jpg\n",
            "[%] File Downloaded !\n",
            "\n",
            "\n",
            "\n",
            "[%] Done. Downloaded 10 images.\n",
            "[%] Downloading Images to /content/drive/MyDrive/AIdataset/orange\n",
            "\n",
            "\n",
            "[!!]Indexing page: 1\n",
            "\n",
            "[%] Indexed 10 Images on Page 1.\n",
            "\n",
            "===============================================\n",
            "\n",
            "[%] Downloading Image #1 from https://www.photos-public-domain.com/wp-content/uploads/2011/01/sliced-orange.jpg\n",
            "[%] File Downloaded !\n",
            "\n",
            "[%] Downloading Image #2 from https://www.wallpapergeeks.com/wp-content/uploads/2014/03/juicy-orange-slices-wallpaper.jpg\n",
            "[%] File Downloaded !\n",
            "\n",
            "[%] Downloading Image #3 from https://www.ellaclaireinspired.com/wp-content/uploads/2020/12/stack-of-dried-oranges-scaled.jpg\n",
            "[%] File Downloaded !\n",
            "\n",
            "[%] Downloading Image #4 from http://christmasstockimages.com/free/food-dining/oranges.jpg\n",
            "[%] File Downloaded !\n",
            "\n",
            "[%] Downloading Image #5 from https://www.ellaclaireinspired.com/wp-content/uploads/2020/12/most-beautiful-dried-oranges-scaled.jpg\n",
            "[%] File Downloaded !\n",
            "\n",
            "[%] Downloading Image #6 from http://www.publicdomainpictures.net/pictures/20000/velka/orange-oranges.jpg\n",
            "[%] File Downloaded !\n",
            "\n",
            "[%] Downloading Image #7 from https://www.wallpics.net/wp-content/uploads/2019/01/Orange-Pics.jpg\n",
            "[%] File Downloaded !\n",
            "\n",
            "[%] Downloading Image #8 from http://publicdomainpictures.net/pictures/20000/velka/orange-1323436271GKh.jpg\n",
            "[%] File Downloaded !\n",
            "\n",
            "[%] Downloading Image #9 from http://www.photos-public-domain.com/wp-content/uploads/2011/01/orange-quarters.jpg\n",
            "[%] File Downloaded !\n",
            "\n",
            "[%] Downloading Image #10 from https://oaklandorganiceggs.co.uk/wp-content/uploads/2020/05/image_525141c2-969d-4cf2-8091-8d03ac167a1f-scaled.jpg\n",
            "[%] File Downloaded !\n",
            "\n",
            "\n",
            "\n",
            "[%] Done. Downloaded 10 images.\n",
            "[%] Downloading Images to /content/drive/MyDrive/AIdataset/peach\n",
            "\n",
            "\n",
            "[!!]Indexing page: 1\n",
            "\n",
            "[%] Indexed 10 Images on Page 1.\n",
            "\n",
            "===============================================\n",
            "\n",
            "[%] Downloading Image #1 from https://bloximages.chicago2.vip.townnews.com/cullmantimes.com/content/tncms/assets/v3/editorial/b/cb/bcb196be-09f9-11e7-8564-639fdff7fb14/58ca0852a88bd.image.jpg\n",
            "[%] File Downloaded !\n",
            "\n",
            "[%] Downloading Image #2 from http://static1.squarespace.com/static/5602f08de4b0cb7ca5d4a933/56e5b8805f21e0489f531567/56e5ba715f21e0489f532ed2/1457896049909/Peaches.jpg?format=original\n",
            "[%] File Downloaded !\n",
            "\n",
            "[%] Downloading Image #3 from http://vscnews.com/wp-content/uploads/2019/12/Peaches.shutterstock_154437848-scaled.jpg\n",
            "[%] File Downloaded !\n",
            "\n",
            "[%] Downloading Image #4 from https://viciousvapors.com/pohs/wp-content/uploads/2014/05/peach.jpg\n",
            "[%] File Downloaded !\n",
            "\n",
            "[%] Downloading Image #5 from https://magazine.fortcollinsmag.com/wp-content/uploads/2017/08/what-a-peach1.jpg\n",
            "[%] File Downloaded !\n",
            "\n",
            "[%] Downloading Image #6 from http://www.photos-public-domain.com/wp-content/uploads/2018/10/peach.jpg\n",
            "[%] File Downloaded !\n",
            "\n",
            "[%] Downloading Image #7 from http://dreamicus.com/data/peach/peach-08.jpg\n",
            "[%] File Downloaded !\n",
            "\n",
            "[%] Downloading Image #8 from https://fthmb.tqn.com/GPl-2i5Tqb9pwto05q2LqBU3Ia0=/2400x1600/filters:fill(auto,1)/peachesx-56a4952d5f9b58b7d0d7ae8a.jpg\n",
            "[%] File Downloaded !\n",
            "\n",
            "[%] Downloading Image #9 from https://www.bennettorchards.com/media/IMG_1025.jpg\n",
            "[%] File Downloaded !\n",
            "\n",
            "[%] Downloading Image #10 from http://cdn.shopify.com/s/files/1/2336/3219/products/elberta_1024x1024.jpg?v=1538695324\n",
            "[%] File Downloaded !\n",
            "\n",
            "\n",
            "\n",
            "[%] Done. Downloaded 10 images.\n",
            "[%] Downloading Images to /content/drive/MyDrive/AIdataset/coconut\n",
            "\n",
            "\n",
            "[!!]Indexing page: 1\n",
            "\n",
            "[%] Indexed 10 Images on Page 1.\n",
            "\n",
            "===============================================\n",
            "\n",
            "[%] Downloading Image #1 from https://foodprint.org/wp-content/uploads/2018/10/AdobeStock_210031864-e1539129752858.jpeg\n",
            "[%] File Downloaded !\n",
            "\n",
            "[%] Downloading Image #2 from https://i1.wp.com/cocohitech.com/wp-content/uploads/2020/05/coconut-vietnam-cocohitech.jpg?fit=2048%2C1152&amp;ssl=1\n",
            "[%] File Downloaded !\n",
            "\n",
            "[%] Downloading Image #3 from https://devour.asia/wp-content/uploads/2020/01/coconut.jpg\n",
            "[%] File Downloaded !\n",
            "\n",
            "[%] Downloading Image #4 from https://www.thestar.com/content/dam/thestar/news/world/2016/09/09/the-caribbean-is-running-out-of-coconuts/coconutsjpg.jpg\n",
            "[%] File Downloaded !\n",
            "\n",
            "[%] Downloading Image #5 from http://store.florida-coconuts.com/media/catalog/product/cache/1/thumbnail/800x800/9df78eab33525d08d6e5fb8d27136e95/f/c/fc_green-coconut-branch.jpg\n",
            "[%] File Downloaded !\n",
            "\n",
            "[%] Downloading Image #6 from http://www.leavesayurveda.com/wp-content/uploads/2017/08/coconut1_orig.jpg\n",
            "[%] File Downloaded !\n",
            "\n",
            "[%] Downloading Image #7 from https://jooinn.com/images/coconut-bunch-5.jpg\n",
            "[%] File Downloaded !\n",
            "\n",
            "[%] Downloading Image #8 from https://jooinn.com/images/coconut-bunch-1.jpg\n",
            "[%] File Downloaded !\n",
            "\n",
            "[%] Downloading Image #9 from https://whalebonemag.com/wp-content/uploads/2016/10/Coconut_0188.jpg\n",
            "[%] File Downloaded !\n",
            "\n",
            "[%] Downloading Image #10 from https://nurseryplantsbd.com/wp-content/uploads/2021/04/Vietnam-coconut-tree-2-1536x1152.jpg\n",
            "[%] File Downloaded !\n",
            "\n",
            "\n",
            "\n",
            "[%] Done. Downloaded 10 images.\n",
            "[%] Downloading Images to /content/drive/MyDrive/AIdataset/pear\n",
            "\n",
            "\n",
            "[!!]Indexing page: 1\n",
            "\n",
            "[%] Indexed 10 Images on Page 1.\n",
            "\n",
            "===============================================\n",
            "\n",
            "[%] Downloading Image #1 from https://www.supermarketperimeter.com/ext/resources/pears-jpeg.jpg?1562011118\n",
            "[!] Issue getting: https://www.supermarketperimeter.com/ext/resources/pears-jpeg.jpg?1562011118\n",
            "[!] Error:: <urlopen error [Errno -3] Temporary failure in name resolution>\n",
            "[%] Downloading Image #1 from https://www.verywellfit.com/thmb/aUqaS0dwAoTNmR2vSwhZpHy2e5k=/5700x3815/filters:fill(FFDB5D,1)/GettyImages-121330290-582dcb383df78c6f6ac67f94.jpg\n",
            "[%] File Downloaded !\n",
            "\n",
            "[%] Downloading Image #2 from https://static.fanpage.it/wp-content/uploads/sites/22/2018/12/pear4.jpg\n",
            "[%] File Downloaded !\n",
            "\n",
            "[%] Downloading Image #3 from https://img.thrfun.com/img/124/302/pears_x1.jpg\n",
            "[%] File Downloaded !\n",
            "\n",
            "[%] Downloading Image #4 from https://www.quallsag.com/wp-content/uploads/2017/01/Pears.jpeg\n",
            "[%] File Downloaded !\n",
            "\n",
            "[%] Downloading Image #5 from http://weknowyourdreams.com/images/pear/pear-05.jpg\n",
            "[%] File Downloaded !\n",
            "\n",
            "[%] Downloading Image #6 from https://1.bp.blogspot.com/-I-ifw1Q4JvI/XVP8tZi_K1I/AAAAAAAAA0I/rq0s8CrJQKss1TLnBIcTLVmfhcI-9njggCLcBGAs/s1600/pears.jpg\n",
            "[%] File Downloaded !\n",
            "\n",
            "[%] Downloading Image #7 from https://assets.bigcartel.com/product_images/230477690/pears-1000.png?auto=format&amp;fit=max&amp;h=1200&amp;w=1200\n",
            "[%] File Downloaded !\n",
            "\n",
            "[%] Downloading Image #8 from https://oaklandorganiceggs.co.uk/wp-content/uploads/2020/05/image_9aa75dae-1932-4878-9aa4-cc023efd5b36-scaled.jpg\n",
            "[%] File Downloaded !\n",
            "\n",
            "[%] Downloading Image #9 from https://yesterdish.com/wp-content/gallery/images-in-posts/2013-12-26-kieffer-pears.jpg\n",
            "[%] File Downloaded !\n",
            "\n",
            "\n",
            "\n",
            "[!!]Indexing page: 2\n",
            "\n",
            "[%] Indexed 35 Images on Page 2.\n",
            "\n",
            "===============================================\n",
            "\n",
            "[%] Downloading Image #10 from https://www.eatlikenoone.com/wp-content/uploads/2010/08/Clapps-Favroite-Pears.JPG\n",
            "[%] File Downloaded !\n",
            "\n",
            "\n",
            "\n",
            "[%] Done. Downloaded 10 images.\n",
            "[%] Downloading Images to /content/drive/MyDrive/AIdataset/berries\n",
            "\n",
            "\n",
            "[!!]Indexing page: 1\n",
            "\n",
            "[%] Indexed 10 Images on Page 1.\n",
            "\n",
            "===============================================\n",
            "\n",
            "[%] Downloading Image #1 from https://www.gannett-cdn.com/presto/2019/05/13/USAT/96d7331c-efa1-4b2a-b725-abdee828aeee-GettyImages-1141860568.jpg?crop=5759,3239,x0,y0&amp;width=3200&amp;height=1680&amp;fit=bounds\n",
            "[%] File Downloaded !\n",
            "\n",
            "[%] Downloading Image #2 from https://cdn.freshfruitportal.com/2020/04/Berries-shutterstock_132911189-1024x837.jpg\n",
            "[%] File Downloaded !\n",
            "\n",
            "[%] Downloading Image #3 from https://cbsnews1.cbsistatic.com/hub/i/2012/09/04/e850d1e4-d264-11e2-a43e-02911869d855/berries_000015973261.jpg\n",
            "[%] File Downloaded !\n",
            "\n",
            "[%] Downloading Image #4 from http://freshrestaurants.com/wp-content/uploads/2016/11/mixed-berries.jpg\n",
            "[%] File Downloaded !\n",
            "\n",
            "[%] Downloading Image #5 from https://www.survivaldaily.com/wp-content/uploads/sites/22/2020/03/Identifying-Edible-Berries.jpg\n",
            "[%] File Downloaded !\n",
            "\n",
            "[%] Downloading Image #6 from https://www.girlsofto.com/wp-content/uploads/2013/11/berries.jpg\n",
            "[%] File Downloaded !\n",
            "\n",
            "[%] Downloading Image #7 from http://content.assets.pressassociation.io/2017/08/25125508/dc1a29f4-8507-41b7-8c69-3726c5ec927e.jpg\n",
            "[%] File Downloaded !\n",
            "\n",
            "[%] Downloading Image #8 from https://mnc-img-01.sfo2.cdn.digitaloceanspaces.com/wp-content/uploads/sites/4/2017/03/Lead1.jpg\n",
            "[%] File Downloaded !\n",
            "\n",
            "[%] Downloading Image #9 from https://www.pccmarkets.com/wp-content/uploads/2018/05/st-mixed-fresh-berries-1600.jpg\n",
            "[%] File Downloaded !\n",
            "\n",
            "[%] Downloading Image #10 from http://www.webrn-maculardegeneration.com/images/DSCN8492.jpg\n",
            "[%] File Downloaded !\n",
            "\n",
            "\n",
            "\n",
            "[%] Done. Downloaded 10 images.\n",
            "[%] Downloading Images to /content/drive/MyDrive/AIdataset/grape\n",
            "\n",
            "\n",
            "[!!]Indexing page: 1\n",
            "\n",
            "[%] Indexed 10 Images on Page 1.\n",
            "\n",
            "===============================================\n",
            "\n",
            "[%] Downloading Image #1 from https://media.istockphoto.com/photos/red-grape-isolated-on-white-background-picture-id477899903?k=6&amp;m=477899903&amp;s=612x612&amp;w=0&amp;h=EJImWovrOSZJ319ZbvMD9aP-deSIyVYNIlDi_wwdhsI=\n",
            "[%] File Downloaded !\n",
            "\n",
            "[%] Downloading Image #2 from https://progressivecrop.com/wp-content/uploads/2020/06/grapes.jpg\n",
            "[%] File Downloaded !\n",
            "\n",
            "[%] Downloading Image #3 from https://www.cellartours.com/wp-content/uploads/food-and-wine/white-grapes.jpg\n",
            "[%] File Downloaded !\n",
            "\n",
            "[%] Downloading Image #4 from http://wallpapersdsc.net/wp-content/uploads/2016/09/Grapes-Widescreen.jpg\n",
            "[%] File Downloaded !\n",
            "\n",
            "[%] Downloading Image #5 from https://www.tasteofhome.com/wp-content/uploads/2019/08/grape-farm-shutterstock_577975810.jpg\n",
            "[%] File Downloaded !\n",
            "\n",
            "[%] Downloading Image #6 from https://media.istockphoto.com/photos/red-grape-picture-id162253569?k=6&amp;m=162253569&amp;s=612x612&amp;w=0&amp;h=D62_4SmIqJIc0ZzibYMcyLNpWCgrSXbF7dBrKyB9KoM=\n",
            "[%] File Downloaded !\n",
            "\n",
            "[%] Downloading Image #7 from https://media.istockphoto.com/photos/red-grape-macro-picture-id121119398?k=6&amp;m=121119398&amp;s=612x612&amp;w=0&amp;h=yk2g8IYQGm_r06kMZ5pHs-d-jNk4Ftw8IDyhyprAcMM=\n",
            "[%] File Downloaded !\n",
            "\n",
            "[%] Downloading Image #8 from https://wallpapercave.com/wp/wp3997770.jpg\n",
            "[%] File Downloaded !\n",
            "\n",
            "[%] Downloading Image #9 from http://dietitianmom.com/wp-content/uploads/2018/10/grapes2.jpg\n",
            "[%] File Downloaded !\n",
            "\n",
            "[%] Downloading Image #10 from https://upload.wikimedia.org/wikipedia/commons/a/a4/Grapes05.jpg\n",
            "[%] File Downloaded !\n",
            "\n",
            "\n",
            "\n",
            "[%] Done. Downloaded 10 images.\n",
            "[%] Downloading Images to /content/drive/MyDrive/AIdataset/mango\n",
            "\n",
            "\n",
            "[!!]Indexing page: 1\n",
            "\n",
            "[%] Indexed 10 Images on Page 1.\n",
            "\n",
            "===============================================\n",
            "\n",
            "[%] Downloading Image #1 from https://www.multivu.com/players/English/72762525-MCI-eyes-revolution-mango-trade/gallery/image/b07adc25-5812-4dfd-aac3-3373579d586c.jpg\n",
            "[%] File Downloaded !\n",
            "\n",
            "[%] Downloading Image #2 from https://www.goodnature.com/wp-content/uploads/2019/11/iStock-583853610.jpg\n",
            "[%] File Downloaded !\n",
            "\n",
            "[%] Downloading Image #3 from http://3.bp.blogspot.com/-m4rmhhHlX0U/T-Wx6v6mUZI/AAAAAAAAAOA/xcr7uapZTmQ/s1600/mango.jpg\n",
            "[%] File Downloaded !\n",
            "\n",
            "[%] Downloading Image #4 from https://ilarge.lisimg.com/image/6486273/740full-mango.jpg\n",
            "[%] File Downloaded !\n",
            "\n",
            "[%] Downloading Image #5 from https://www.supermarketperimeter.com/ext/resources/0722-mangoes.jpg?t=1595428736&amp;width=1080\n",
            "[%] File Downloaded !\n",
            "\n",
            "[%] Downloading Image #6 from http://www.brookstropicals.com/wp-content/uploads/2019/06/A-variety-of-mangos-1240x930.jpg\n",
            "[%] File Downloaded !\n",
            "\n",
            "[%] Downloading Image #7 from http://www.watchmyfoodgrow.com/wp-content/uploads/2013/08/IMG_2285.jpg\n",
            "[%] File Downloaded !\n",
            "\n",
            "[%] Downloading Image #8 from https://quintalsonline.com/wp-content/uploads/2020/05/Ataulfo-Champagne-Mangoes.jpg\n",
            "[%] File Downloaded !\n",
            "\n",
            "[%] Downloading Image #9 from https://www.greenthickies.com/wp-content/uploads/2019/12/fresh-organic-mango.jpg\n",
            "[%] File Downloaded !\n",
            "\n",
            "[%] Downloading Image #10 from https://im01.itaiwantrade.com/aae1387b-bfea-4266-8714-9280bcfb3480/2019.05.31_farmer's_mango_001.jpg\n",
            "[%] File Downloaded !\n",
            "\n",
            "\n",
            "\n",
            "[%] Done. Downloaded 10 images.\n",
            "[%] Downloading Images to /content/drive/MyDrive/AIdataset/lemon\n",
            "\n",
            "\n",
            "[!!]Indexing page: 1\n",
            "\n",
            "[%] Indexed 10 Images on Page 1.\n",
            "\n",
            "===============================================\n",
            "\n",
            "[%] Downloading Image #1 from https://carbuyersonline.com.au/blog/wp-content/uploads/2015/09/lemon-01.jpg\n",
            "[%] File Downloaded !\n",
            "\n",
            "[%] Downloading Image #2 from https://www.italianfoodexcellence.com/wp-content/uploads/sites/27/2014/12/19_3-.jpeg\n",
            "[%] File Downloaded !\n",
            "\n",
            "[%] Downloading Image #3 from http://wakeup-world.com/wp-content/uploads/2012/04/Lemons.jpg\n",
            "[%] File Downloaded !\n",
            "\n",
            "[%] Downloading Image #4 from https://www.louiesnursery.com/wp-content/uploads/2012/05/lemon-meyer-stock-image.jpg\n",
            "[%] File Downloaded !\n",
            "\n",
            "[%] Downloading Image #5 from https://thelocalpalate.com/wp-content/uploads/2017/01/meyerlemonheader-600x600.jpg\n",
            "[%] File Downloaded !\n",
            "\n",
            "[%] Downloading Image #6 from https://freefoodphotos.com/imagelibrary/fruit/cut_lemon.jpg\n",
            "[%] File Downloaded !\n",
            "\n",
            "[%] Downloading Image #7 from http://beautifullynappy.files.wordpress.com/2013/12/lemons.jpg\n",
            "[%] File Downloaded !\n",
            "\n",
            "[%] Downloading Image #8 from https://thelocalpalate.com/wp-content/uploads/2017/01/meyerlemonheader.jpg\n",
            "[%] File Downloaded !\n",
            "\n",
            "[%] Downloading Image #9 from https://sapodillagardens.com/wp-content/uploads/2020/10/61WSDWktc1L._AC_SL1184_.jpg\n",
            "[%] File Downloaded !\n",
            "\n",
            "[%] Downloading Image #10 from https://s3.amazonaws.com/images.ecwid.com/images/29186976/1628182281.jpg\n",
            "[%] File Downloaded !\n",
            "\n",
            "\n",
            "\n",
            "[%] Done. Downloaded 10 images.\n"
          ]
        }
      ],
      "source": [
        "from bing_image_downloader import downloader\n",
        "downloader.download(\"apple\", limit=10 , output_dir=\"/content/drive/MyDrive/AIdataset\")\n",
        "downloader.download(\"banana\", limit=10 , output_dir=\"/content/drive/MyDrive/AIdataset\")\n",
        "downloader.download(\"orange\", limit=10 , output_dir=\"/content/drive/MyDrive/AIdataset\")\n",
        "downloader.download(\"peach\", limit=10 , output_dir=\"/content/drive/MyDrive/AIdataset\")\n",
        "downloader.download(\"coconut\", limit=10 , output_dir=\"/content/drive/MyDrive/AIdataset\")\n",
        "downloader.download(\"pear\", limit=10 , output_dir=\"/content/drive/MyDrive/AIdataset\")\n",
        "downloader.download(\"berries\", limit=10 , output_dir=\"/content/drive/MyDrive/AIdataset\")\n",
        "downloader.download(\"grape\", limit=10 , output_dir=\"/content/drive/MyDrive/AIdataset\")\n",
        "downloader.download(\"mango\", limit=10 , output_dir=\"/content/drive/MyDrive/AIdataset\")\n",
        "downloader.download(\"lemon\", limit=10 , output_dir=\"/content/drive/MyDrive/AIdataset\")"
      ]
    },
    {
      "cell_type": "code",
      "source": [
        "from tensorflow.keras.preprocessing.image import load_img, img_to_array\n",
        "from keras.layers import Dense, Flatten, Dropout, Conv2D, MaxPooling2D\n",
        "from tensorflow.keras.optimizers import Adam, SGD\n",
        "from tensorflow.keras.utils import to_categorical\n",
        "from sklearn.model_selection import train_test_split\n",
        "from keras.models import Sequential\n",
        "from keras.utils import np_utils\n",
        "import matplotlib.pyplot as plt\n",
        "import numpy as np\n",
        "import glob"
      ],
      "metadata": {
        "id": "hD-xR4OMIm5V"
      },
      "execution_count": 2,
      "outputs": []
    },
    {
      "cell_type": "code",
      "execution_count": 3,
      "metadata": {
        "id": "mwrGQmwQGLdo"
      },
      "outputs": [],
      "source": [
        "apple = list()\n",
        "for img in glob.glob('/content/drive/MyDrive/AIdataset/apple/*.jpg'):\n",
        "  apple.append(img_to_array(load_img(img,target_size=(150,150))))\n",
        "banana = list()\n",
        "for img in glob.glob('/content/drive/MyDrive/AIdataset/banana/*.jpg'):\n",
        "  banana.append(img_to_array(load_img(img,target_size=(150,150))))\n",
        "orange = list()\n",
        "for img in glob.glob('/content/drive/MyDrive/AIdataset/orange/*.jpg'):\n",
        "  orange.append(img_to_array(load_img(img,target_size=(150,150))))\n",
        "peach = list()\n",
        "for img in glob.glob('/content/drive/MyDrive/AIdataset/peach/*.jpg'):\n",
        "  peach.append(img_to_array(load_img(img,target_size=(150,150))))\n",
        "coconut = list()\n",
        "for img in glob.glob('/content/drive/MyDrive/AIdataset/coconut/*.jpg'):\n",
        "  coconut.append(img_to_array(load_img(img,target_size=(150,150))))\n",
        "pear = list()\n",
        "for img in glob.glob('/content/drive/MyDrive/AIdataset/pear/*.jpg'):\n",
        "  pear.append(img_to_array(load_img(img,target_size=(150,150))))\n",
        "berries = list()\n",
        "for img in glob.glob('/content/drive/MyDrive/AIdataset/berries/*.jpg'):\n",
        "  berries.append(img_to_array(load_img(img,target_size=(150,150))))\n",
        "grape = list()\n",
        "for img in glob.glob('/content/drive/MyDrive/AIdataset/grape/*.jpg'):\n",
        "  grape.append(img_to_array(load_img(img,target_size=(150,150))))\n",
        "mango = list()\n",
        "for img in glob.glob('/content/drive/MyDrive/AIdataset/mango/*.jpg'):\n",
        "  mango.append(img_to_array(load_img(img,target_size=(150,150))))\n",
        "lemon = list()\n",
        "for img in glob.glob('/content/drive/MyDrive/AIdataset/lemon/*.jpg'):\n",
        "  lemon.append(img_to_array(load_img(img,target_size=(150,150))))"
      ]
    },
    {
      "cell_type": "code",
      "source": [
        "input_dataset = np.array(apple + banana + orange + peach + coconut + pear + berries + grape + mango + lemon)\n",
        "label_dataset = np.array([0]*len(apple) + [1]*len(banana) + [2]*len(orange) + [3]*len(peach) + [4]*len(coconut) + [5]*len(pear) + [6]*len(berries) + [7]*len(grape) + [8]*len(mango) + [9]*len(lemon))"
      ],
      "metadata": {
        "id": "i8mFNewuJ1KZ"
      },
      "execution_count": 4,
      "outputs": []
    },
    {
      "cell_type": "code",
      "source": [
        "print(input_dataset.shape)\n",
        "print(label_dataset.shape)"
      ],
      "metadata": {
        "colab": {
          "base_uri": "https://localhost:8080/",
          "height": 0
        },
        "id": "uKYLhQccJ4L-",
        "outputId": "9df36b6b-e07a-4f11-c4e3-d0eedd9a914f"
      },
      "execution_count": 5,
      "outputs": [
        {
          "output_type": "stream",
          "name": "stdout",
          "text": [
            "(80, 150, 150, 3)\n",
            "(80,)\n"
          ]
        }
      ]
    },
    {
      "cell_type": "code",
      "source": [
        "print(len(lemon))"
      ],
      "metadata": {
        "colab": {
          "base_uri": "https://localhost:8080/",
          "height": 0
        },
        "id": "0WptInHme1aL",
        "outputId": "8fefb7a7-f544-4e61-eb4e-2d41477119ca"
      },
      "execution_count": 6,
      "outputs": [
        {
          "output_type": "stream",
          "name": "stdout",
          "text": [
            "8\n"
          ]
        }
      ]
    },
    {
      "cell_type": "code",
      "source": [
        "x_train, x_test, y_train, y_test = train_test_split(input_dataset,label_dataset\n",
        "                                                    ,train_size=0.8, test_size=0.2, random_state= 0)"
      ],
      "metadata": {
        "id": "RhqiDpKfNTUU"
      },
      "execution_count": 7,
      "outputs": []
    },
    {
      "cell_type": "code",
      "source": [
        "print(y_train.shape)\n",
        "print(x_train.shape)"
      ],
      "metadata": {
        "colab": {
          "base_uri": "https://localhost:8080/",
          "height": 0
        },
        "id": "Yzb8Ub5UKjmJ",
        "outputId": "5d84e145-5847-423e-fdfd-80c575114eec"
      },
      "execution_count": 8,
      "outputs": [
        {
          "output_type": "stream",
          "name": "stdout",
          "text": [
            "(64,)\n",
            "(64, 150, 150, 3)\n"
          ]
        }
      ]
    },
    {
      "cell_type": "code",
      "source": [
        "x_train = x_train.astype('float32')\n",
        "x_test = x_test.astype('float32')\n",
        "x_train /= 255\n",
        "x_test/= 255"
      ],
      "metadata": {
        "id": "LSEupG4vT4FV"
      },
      "execution_count": 9,
      "outputs": []
    },
    {
      "cell_type": "code",
      "source": [
        "y_train = to_categorical(y_train,10)\n",
        "y_test = to_categorical(y_test,10)"
      ],
      "metadata": {
        "id": "lD5oZAgVWS1O"
      },
      "execution_count": 10,
      "outputs": []
    },
    {
      "cell_type": "code",
      "source": [
        "Model = Sequential()\n",
        "Model.add(Conv2D(32,(3,3), activation = 'relu', kernel_initializer= 'he_uniform', padding = 'same',input_shape = (150,150,3)))\n",
        "Model.add(Conv2D(32,(3,3),activation = 'relu', kernel_initializer= 'he_uniform',padding = 'same'))\n",
        "Model.add(MaxPooling2D((2,2)))\n",
        "Model.add(Conv2D(64,(3,3), activation = 'relu', kernel_initializer= 'he_uniform', padding = 'same'))\n",
        "Model.add(Conv2D(64,(3,3),activation = 'relu', kernel_initializer= 'he_uniform',padding = 'same'))\n",
        "Model.add(MaxPooling2D((2,2)))\n",
        "Model.add(Conv2D(128,(3,3), activation = 'relu', kernel_initializer= 'he_uniform', padding = 'same'))\n",
        "Model.add(Conv2D(128,(3,3),activation = 'relu', kernel_initializer= 'he_uniform',padding = 'same'))\n",
        "Model.add(MaxPooling2D((2,2)))\n",
        "Model.add(Flatten())\n",
        "Model.add(Dense(128,activation= 'relu',kernel_initializer='he_uniform'))\n",
        "Model.add(Dense(10,activation = 'softmax'))\n",
        "opt = SGD(lr = 0.01,momentum = 0.9)\n",
        "Model.compile(optimizer= opt,loss = 'categorical_crossentropy', metrics=['accuracy'])\n",
        "history = Model.fit(x_train,y_train,epochs=20,batch_size = 64,validation_data=(x_test,y_test), verbose=1)\n"
      ],
      "metadata": {
        "colab": {
          "base_uri": "https://localhost:8080/",
          "height": 0
        },
        "id": "to4lUcVRWV4a",
        "outputId": "58617d5f-a899-4169-fe83-0d4665a4b17d"
      },
      "execution_count": 11,
      "outputs": [
        {
          "output_type": "stream",
          "name": "stdout",
          "text": [
            "Epoch 1/20\n"
          ]
        },
        {
          "output_type": "stream",
          "name": "stderr",
          "text": [
            "/usr/local/lib/python3.7/dist-packages/keras/optimizer_v2/gradient_descent.py:102: UserWarning: The `lr` argument is deprecated, use `learning_rate` instead.\n",
            "  super(SGD, self).__init__(name, **kwargs)\n"
          ]
        },
        {
          "output_type": "stream",
          "name": "stdout",
          "text": [
            "1/1 [==============================] - 11s 11s/step - loss: 2.6094 - accuracy: 0.1406 - val_loss: 4.2619 - val_accuracy: 0.0000e+00\n",
            "Epoch 2/20\n",
            "1/1 [==============================] - 9s 9s/step - loss: 4.9478 - accuracy: 0.1250 - val_loss: 2.5345 - val_accuracy: 0.0625\n",
            "Epoch 3/20\n",
            "1/1 [==============================] - 9s 9s/step - loss: 3.1104 - accuracy: 0.1094 - val_loss: 2.2572 - val_accuracy: 0.0625\n",
            "Epoch 4/20\n",
            "1/1 [==============================] - 9s 9s/step - loss: 2.5909 - accuracy: 0.1094 - val_loss: 2.2015 - val_accuracy: 0.0625\n",
            "Epoch 5/20\n",
            "1/1 [==============================] - 8s 8s/step - loss: 2.3564 - accuracy: 0.1406 - val_loss: 2.2336 - val_accuracy: 0.1875\n",
            "Epoch 6/20\n",
            "1/1 [==============================] - 8s 8s/step - loss: 2.2930 - accuracy: 0.0938 - val_loss: 2.2654 - val_accuracy: 0.1875\n",
            "Epoch 7/20\n",
            "1/1 [==============================] - 8s 8s/step - loss: 2.2761 - accuracy: 0.1562 - val_loss: 2.2867 - val_accuracy: 0.1250\n",
            "Epoch 8/20\n",
            "1/1 [==============================] - 8s 8s/step - loss: 2.2686 - accuracy: 0.1406 - val_loss: 2.2982 - val_accuracy: 0.1875\n",
            "Epoch 9/20\n",
            "1/1 [==============================] - 8s 8s/step - loss: 2.2652 - accuracy: 0.2344 - val_loss: 2.3066 - val_accuracy: 0.1875\n",
            "Epoch 10/20\n",
            "1/1 [==============================] - 9s 9s/step - loss: 2.2617 - accuracy: 0.2344 - val_loss: 2.3121 - val_accuracy: 0.1875\n",
            "Epoch 11/20\n",
            "1/1 [==============================] - 10s 10s/step - loss: 2.2525 - accuracy: 0.2031 - val_loss: 2.3146 - val_accuracy: 0.1250\n",
            "Epoch 12/20\n",
            "1/1 [==============================] - 8s 8s/step - loss: 2.2372 - accuracy: 0.2188 - val_loss: 2.3097 - val_accuracy: 0.0625\n",
            "Epoch 13/20\n",
            "1/1 [==============================] - 8s 8s/step - loss: 2.2128 - accuracy: 0.2188 - val_loss: 2.3007 - val_accuracy: 0.0625\n",
            "Epoch 14/20\n",
            "1/1 [==============================] - 8s 8s/step - loss: 2.1834 - accuracy: 0.2344 - val_loss: 2.2932 - val_accuracy: 0.0625\n",
            "Epoch 15/20\n",
            "1/1 [==============================] - 8s 8s/step - loss: 2.1601 - accuracy: 0.2812 - val_loss: 2.2957 - val_accuracy: 0.0625\n",
            "Epoch 16/20\n",
            "1/1 [==============================] - 8s 8s/step - loss: 2.1326 - accuracy: 0.2969 - val_loss: 2.3144 - val_accuracy: 0.0625\n",
            "Epoch 17/20\n",
            "1/1 [==============================] - 8s 8s/step - loss: 2.0831 - accuracy: 0.3594 - val_loss: 2.3624 - val_accuracy: 0.0625\n",
            "Epoch 18/20\n",
            "1/1 [==============================] - 8s 8s/step - loss: 2.0110 - accuracy: 0.3125 - val_loss: 2.4351 - val_accuracy: 0.0625\n",
            "Epoch 19/20\n",
            "1/1 [==============================] - 9s 9s/step - loss: 1.9432 - accuracy: 0.3281 - val_loss: 2.4875 - val_accuracy: 0.1250\n",
            "Epoch 20/20\n",
            "1/1 [==============================] - 8s 8s/step - loss: 1.8515 - accuracy: 0.4844 - val_loss: 2.5196 - val_accuracy: 0.1250\n"
          ]
        }
      ]
    },
    {
      "cell_type": "code",
      "source": [
        "score = Model.evaluate(x_test,y_test,verbose = 1)"
      ],
      "metadata": {
        "id": "aZf5kHKpWZXf",
        "colab": {
          "base_uri": "https://localhost:8080/",
          "height": 0
        },
        "outputId": "23ce6bf2-a19a-4f52-ace9-00f9292f76fb"
      },
      "execution_count": 12,
      "outputs": [
        {
          "output_type": "stream",
          "name": "stdout",
          "text": [
            "1/1 [==============================] - 1s 952ms/step - loss: 2.5196 - accuracy: 0.1250\n"
          ]
        }
      ]
    },
    {
      "cell_type": "code",
      "source": [
        "y_label = ['apple','lemon','orange','peach','coconut','pear','berries','banana','mango','grape']\n",
        "img = load_img('/download (3).jfif',target_size=(150,150))\n",
        "plt.imshow(img)\n",
        "img = img_to_array(img)\n",
        "img = img.reshape(1,150,150,3)\n",
        "print(y_label[np.argmax(Model.predict(img),axis = 1)[0]])"
      ],
      "metadata": {
        "colab": {
          "base_uri": "https://localhost:8080/",
          "height": 286
        },
        "id": "guvA57UM01iD",
        "outputId": "cba6d263-0eff-49a9-aad4-267ae9ff71ad"
      },
      "execution_count": 23,
      "outputs": [
        {
          "output_type": "stream",
          "name": "stdout",
          "text": [
            "banana\n"
          ]
        },
        {
          "output_type": "display_data",
          "data": {
            "text/plain": [
              "<Figure size 432x288 with 1 Axes>"
            ],
            "image/png": "[encoded data removed]"
          },
          "metadata": {
            "needs_background": "light"
          }
        }
      ]
    },
    {
      "cell_type": "code",
      "source": [
        "img = load_img('/download.jfif',target_size=(150,150))\n",
        "plt.imshow(img)\n",
        "img = img_to_array(img)\n",
        "img = img.reshape(1,150,150,3)\n",
        "print(y_label[np.argmax(Model.predict(img),axis = 1)[0]])"
      ],
      "metadata": {
        "colab": {
          "base_uri": "https://localhost:8080/",
          "height": 286
        },
        "id": "5_W4gZBW1r30",
        "outputId": "188fee62-8ccc-4cbd-b3a8-c8c86fb64304"
      },
      "execution_count": 24,
      "outputs": [
        {
          "output_type": "stream",
          "name": "stdout",
          "text": [
            "lemon\n"
          ]
        },
        {
          "output_type": "display_data",
          "data": {
            "text/plain": [
              "<Figure size 432x288 with 1 Axes>"
            ],
            "image/png": "[encoded data removed]"
          },
          "metadata": {
            "needs_background": "light"
          }
        }
      ]
    }
  ],
  "metadata": {
    "colab": {
      "name": "Untitled1.ipynb",
      "provenance": []
    },
    "kernelspec": {
      "display_name": "Python 3",
      "name": "python3"
    },
    "language_info": {
      "name": "python"
    }
  },
  "nbformat": 4,
  "nbformat_minor": 0
}