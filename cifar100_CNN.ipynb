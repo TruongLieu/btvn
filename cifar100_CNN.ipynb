{
  "nbformat": 4,
  "nbformat_minor": 0,
  "metadata": {
    "colab": {
      "name": "cifar100_CNN.ipynb",
      "provenance": [],
      "collapsed_sections": []
    },
    "kernelspec": {
      "name": "python3",
      "display_name": "Python 3"
    },
    "language_info": {
      "name": "python"
    },
    "accelerator": "GPU"
  },
  "cells": [
    {
      "cell_type": "code",
      "execution_count": 16,
      "metadata": {
        "id": "qo1TRDqEqkPW"
      },
      "outputs": [],
      "source": [
        "import numpy as np\n",
        "from keras.models import Sequential\n",
        "from keras.layers import Dense, Dropout, Flatten, BatchNormalization, Activation\n",
        "from keras.layers.convolutional import Conv2D, MaxPooling2D\n",
        "from keras.utils import np_utils\n",
        "from keras.datasets import cifar100\n",
        "import PIL\n",
        "import matplotlib.pyplot as plt\n",
        "import tensorflow as tf\n",
        "from tensorflow.keras import layers\n",
        "from tensorflow.keras.models import Sequential\n",
        "from tensorflow import keras\n",
        "from keras.layers.convolutional import Conv2D, MaxPooling2D\n",
        "from keras.models import Sequential\n",
        "from keras.layers import Dense, Dropout, Flatten, BatchNormalization, Activation\n",
        "from tensorflow.keras.models import Sequential\n",
        "from tensorflow.keras.optimizers import SGD\n",
        "from keras.backend import categorical_crossentropy"
      ]
    },
    {
      "cell_type": "code",
      "source": [
        "(x_train, y_train), (x_test, y_test) = cifar100.load_data()"
      ],
      "metadata": {
        "id": "h69n-qzDtcFA"
      },
      "execution_count": 17,
      "outputs": []
    },
    {
      "cell_type": "code",
      "source": [
        "import matplotlib.pyplot as plt"
      ],
      "metadata": {
        "id": "ilkf1OZUtiYB"
      },
      "execution_count": 18,
      "outputs": []
    },
    {
      "cell_type": "code",
      "source": [
        "x_train = x_train.astype('float32')\n",
        "x_test = x_test.astype('float32')\n",
        "x_train = x_train/255\n",
        "x_test = x_test/255"
      ],
      "metadata": {
        "id": "-kP60lt8toDQ"
      },
      "execution_count": 19,
      "outputs": []
    },
    {
      "cell_type": "code",
      "source": [
        "y_train = np_utils.to_categorical(y_train,100)\n",
        "y_test = np_utils.to_categorical(y_test,100)"
      ],
      "metadata": {
        "id": "aewYkqfYtqIY"
      },
      "execution_count": 20,
      "outputs": []
    },
    {
      "cell_type": "code",
      "source": [
        "\n",
        "model=Sequential()\n",
        "model.add(Conv2D(32,(3,3),activation='relu',kernel_initializer='he_uniform',padding='same',input_shape=(32,32,3)))\n",
        "model.add(Conv2D(32,(3,3),activation='relu',kernel_initializer='he_uniform',padding='same'))\n",
        "model.add(MaxPooling2D(2,2))"
      ],
      "metadata": {
        "id": "VJrxUMpdttax"
      },
      "execution_count": 21,
      "outputs": []
    },
    {
      "cell_type": "code",
      "source": [
        "model.add(MaxPooling2D(2,2))\n",
        "model.add(Flatten())\n",
        "model.add(Dense(256, activation = 'relu', kernel_initializer = 'he_uniform'))\n",
        "model.add(Dense(100, activation = 'softmax'))\n",
        "opt = SGD(lr = 0.01, momentum = 0.9)\n",
        "model.compile(optimizer = opt, loss = 'categorical_crossentropy', metrics = ['accuracy'])"
      ],
      "metadata": {
        "id": "Y8xkGo46twVH",
        "outputId": "33b36f26-0cc5-4e32-d9d1-27efdad7f563",
        "colab": {
          "base_uri": "https://localhost:8080/",
          "height": 0
        }
      },
      "execution_count": 22,
      "outputs": [
        {
          "output_type": "stream",
          "name": "stderr",
          "text": [
            "/usr/local/lib/python3.7/dist-packages/keras/optimizer_v2/gradient_descent.py:102: UserWarning: The `lr` argument is deprecated, use `learning_rate` instead.\n",
            "  super(SGD, self).__init__(name, **kwargs)\n"
          ]
        }
      ]
    },
    {
      "cell_type": "code",
      "source": [
        "history_1 = model.fit(x_train, y_train, epochs = 100, batch_size = 256, validation_data = (x_test, y_test))\n"
      ],
      "metadata": {
        "colab": {
          "base_uri": "https://localhost:8080/",
          "height": 0
        },
        "id": "X3IUkJmeuZyq",
        "outputId": "ff0b4ae2-b06f-46e6-bcd2-7f6ad41b1c67"
      },
      "execution_count": 23,
      "outputs": [
        {
          "output_type": "stream",
          "name": "stdout",
          "text": [
            "Epoch 1/100\n",
            "196/196 [==============================] - 3s 15ms/step - loss: 4.2812 - accuracy: 0.0541 - val_loss: 3.9123 - val_accuracy: 0.1118\n",
            "Epoch 2/100\n",
            "196/196 [==============================] - 3s 13ms/step - loss: 3.6604 - accuracy: 0.1536 - val_loss: 3.4849 - val_accuracy: 0.1781\n",
            "Epoch 3/100\n",
            "196/196 [==============================] - 3s 13ms/step - loss: 3.2809 - accuracy: 0.2219 - val_loss: 3.1929 - val_accuracy: 0.2389\n",
            "Epoch 4/100\n",
            "196/196 [==============================] - 3s 13ms/step - loss: 2.9992 - accuracy: 0.2733 - val_loss: 2.9890 - val_accuracy: 0.2762\n",
            "Epoch 5/100\n",
            "196/196 [==============================] - 3s 13ms/step - loss: 2.7677 - accuracy: 0.3181 - val_loss: 2.8149 - val_accuracy: 0.3106\n",
            "Epoch 6/100\n",
            "196/196 [==============================] - 3s 13ms/step - loss: 2.5959 - accuracy: 0.3532 - val_loss: 2.7352 - val_accuracy: 0.3285\n",
            "Epoch 7/100\n",
            "196/196 [==============================] - 3s 13ms/step - loss: 2.4361 - accuracy: 0.3855 - val_loss: 2.6191 - val_accuracy: 0.3482\n",
            "Epoch 8/100\n",
            "196/196 [==============================] - 3s 13ms/step - loss: 2.3055 - accuracy: 0.4146 - val_loss: 2.5606 - val_accuracy: 0.3582\n",
            "Epoch 9/100\n",
            "196/196 [==============================] - 3s 13ms/step - loss: 2.1906 - accuracy: 0.4377 - val_loss: 2.5207 - val_accuracy: 0.3684\n",
            "Epoch 10/100\n",
            "196/196 [==============================] - 3s 13ms/step - loss: 2.0811 - accuracy: 0.4604 - val_loss: 2.5486 - val_accuracy: 0.3648\n",
            "Epoch 11/100\n",
            "196/196 [==============================] - 3s 13ms/step - loss: 1.9840 - accuracy: 0.4781 - val_loss: 2.4940 - val_accuracy: 0.3783\n",
            "Epoch 12/100\n",
            "196/196 [==============================] - 3s 13ms/step - loss: 1.8883 - accuracy: 0.5058 - val_loss: 2.4931 - val_accuracy: 0.3825\n",
            "Epoch 13/100\n",
            "196/196 [==============================] - 3s 13ms/step - loss: 1.8008 - accuracy: 0.5282 - val_loss: 2.4751 - val_accuracy: 0.3886\n",
            "Epoch 14/100\n",
            "196/196 [==============================] - 3s 13ms/step - loss: 1.7142 - accuracy: 0.5428 - val_loss: 2.5070 - val_accuracy: 0.3899\n",
            "Epoch 15/100\n",
            "196/196 [==============================] - 3s 13ms/step - loss: 1.6298 - accuracy: 0.5652 - val_loss: 2.5479 - val_accuracy: 0.3829\n",
            "Epoch 16/100\n",
            "196/196 [==============================] - 3s 13ms/step - loss: 1.5425 - accuracy: 0.5854 - val_loss: 2.5702 - val_accuracy: 0.3887\n",
            "Epoch 17/100\n",
            "196/196 [==============================] - 3s 13ms/step - loss: 1.4494 - accuracy: 0.6078 - val_loss: 2.5984 - val_accuracy: 0.3921\n",
            "Epoch 18/100\n",
            "196/196 [==============================] - 3s 13ms/step - loss: 1.3588 - accuracy: 0.6293 - val_loss: 2.6687 - val_accuracy: 0.3832\n",
            "Epoch 19/100\n",
            "196/196 [==============================] - 3s 13ms/step - loss: 1.2697 - accuracy: 0.6511 - val_loss: 2.8095 - val_accuracy: 0.3741\n",
            "Epoch 20/100\n",
            "196/196 [==============================] - 3s 13ms/step - loss: 1.1899 - accuracy: 0.6694 - val_loss: 2.8323 - val_accuracy: 0.3789\n",
            "Epoch 21/100\n",
            "196/196 [==============================] - 3s 14ms/step - loss: 1.1107 - accuracy: 0.6909 - val_loss: 2.9375 - val_accuracy: 0.3795\n",
            "Epoch 22/100\n",
            "196/196 [==============================] - 3s 15ms/step - loss: 1.0305 - accuracy: 0.7104 - val_loss: 2.9835 - val_accuracy: 0.3795\n",
            "Epoch 23/100\n",
            "196/196 [==============================] - 3s 13ms/step - loss: 0.9323 - accuracy: 0.7365 - val_loss: 3.1075 - val_accuracy: 0.3746\n",
            "Epoch 24/100\n",
            "196/196 [==============================] - 3s 13ms/step - loss: 0.8634 - accuracy: 0.7512 - val_loss: 3.3071 - val_accuracy: 0.3677\n",
            "Epoch 25/100\n",
            "196/196 [==============================] - 3s 13ms/step - loss: 0.7788 - accuracy: 0.7759 - val_loss: 3.3803 - val_accuracy: 0.3654\n",
            "Epoch 26/100\n",
            "196/196 [==============================] - 3s 13ms/step - loss: 0.7051 - accuracy: 0.7955 - val_loss: 3.5229 - val_accuracy: 0.3695\n",
            "Epoch 27/100\n",
            "196/196 [==============================] - 3s 13ms/step - loss: 0.6307 - accuracy: 0.8147 - val_loss: 3.6407 - val_accuracy: 0.3682\n",
            "Epoch 28/100\n",
            "196/196 [==============================] - 3s 13ms/step - loss: 0.5661 - accuracy: 0.8315 - val_loss: 3.8931 - val_accuracy: 0.3635\n",
            "Epoch 29/100\n",
            "196/196 [==============================] - 3s 13ms/step - loss: 0.5001 - accuracy: 0.8505 - val_loss: 4.0150 - val_accuracy: 0.3632\n",
            "Epoch 30/100\n",
            "196/196 [==============================] - 3s 13ms/step - loss: 0.4442 - accuracy: 0.8668 - val_loss: 4.2527 - val_accuracy: 0.3600\n",
            "Epoch 31/100\n",
            "196/196 [==============================] - 3s 13ms/step - loss: 0.3734 - accuracy: 0.8907 - val_loss: 4.4567 - val_accuracy: 0.3629\n",
            "Epoch 32/100\n",
            "196/196 [==============================] - 3s 13ms/step - loss: 0.3193 - accuracy: 0.9064 - val_loss: 4.6822 - val_accuracy: 0.3573\n",
            "Epoch 33/100\n",
            "196/196 [==============================] - 3s 13ms/step - loss: 0.2887 - accuracy: 0.9132 - val_loss: 4.8031 - val_accuracy: 0.3591\n",
            "Epoch 34/100\n",
            "196/196 [==============================] - 3s 13ms/step - loss: 0.2465 - accuracy: 0.9274 - val_loss: 5.0648 - val_accuracy: 0.3551\n",
            "Epoch 35/100\n",
            "196/196 [==============================] - 3s 13ms/step - loss: 0.2135 - accuracy: 0.9369 - val_loss: 5.2634 - val_accuracy: 0.3558\n",
            "Epoch 36/100\n",
            "196/196 [==============================] - 3s 13ms/step - loss: 0.1697 - accuracy: 0.9525 - val_loss: 5.4553 - val_accuracy: 0.3528\n",
            "Epoch 37/100\n",
            "196/196 [==============================] - 3s 13ms/step - loss: 0.1550 - accuracy: 0.9565 - val_loss: 5.6677 - val_accuracy: 0.3569\n",
            "Epoch 38/100\n",
            "196/196 [==============================] - 3s 14ms/step - loss: 0.1328 - accuracy: 0.9634 - val_loss: 5.9295 - val_accuracy: 0.3510\n",
            "Epoch 39/100\n",
            "196/196 [==============================] - 3s 13ms/step - loss: 0.1236 - accuracy: 0.9666 - val_loss: 6.0406 - val_accuracy: 0.3580\n",
            "Epoch 40/100\n",
            "196/196 [==============================] - 3s 13ms/step - loss: 0.0898 - accuracy: 0.9778 - val_loss: 6.1573 - val_accuracy: 0.3584\n",
            "Epoch 41/100\n",
            "196/196 [==============================] - 3s 14ms/step - loss: 0.0656 - accuracy: 0.9857 - val_loss: 6.3862 - val_accuracy: 0.3633\n",
            "Epoch 42/100\n",
            "196/196 [==============================] - 3s 13ms/step - loss: 0.0592 - accuracy: 0.9873 - val_loss: 6.4818 - val_accuracy: 0.3597\n",
            "Epoch 43/100\n",
            "196/196 [==============================] - 3s 13ms/step - loss: 0.0485 - accuracy: 0.9899 - val_loss: 6.5648 - val_accuracy: 0.3559\n",
            "Epoch 44/100\n",
            "196/196 [==============================] - 3s 13ms/step - loss: 0.0451 - accuracy: 0.9910 - val_loss: 6.7113 - val_accuracy: 0.3618\n",
            "Epoch 45/100\n",
            "196/196 [==============================] - 3s 13ms/step - loss: 0.0244 - accuracy: 0.9965 - val_loss: 6.8040 - val_accuracy: 0.3637\n",
            "Epoch 46/100\n",
            "196/196 [==============================] - 3s 14ms/step - loss: 0.0172 - accuracy: 0.9981 - val_loss: 6.9631 - val_accuracy: 0.3620\n",
            "Epoch 47/100\n",
            "196/196 [==============================] - 3s 13ms/step - loss: 0.0149 - accuracy: 0.9983 - val_loss: 7.0002 - val_accuracy: 0.3653\n",
            "Epoch 48/100\n",
            "196/196 [==============================] - 3s 13ms/step - loss: 0.0118 - accuracy: 0.9989 - val_loss: 7.0960 - val_accuracy: 0.3669\n",
            "Epoch 49/100\n",
            "196/196 [==============================] - 3s 13ms/step - loss: 0.0110 - accuracy: 0.9989 - val_loss: 7.1890 - val_accuracy: 0.3666\n",
            "Epoch 50/100\n",
            "196/196 [==============================] - 3s 14ms/step - loss: 0.0115 - accuracy: 0.9987 - val_loss: 7.2084 - val_accuracy: 0.3653\n",
            "Epoch 51/100\n",
            "196/196 [==============================] - 3s 13ms/step - loss: 0.0095 - accuracy: 0.9989 - val_loss: 7.3032 - val_accuracy: 0.3665\n",
            "Epoch 52/100\n",
            "196/196 [==============================] - 3s 13ms/step - loss: 0.0087 - accuracy: 0.9993 - val_loss: 7.3680 - val_accuracy: 0.3644\n",
            "Epoch 53/100\n",
            "196/196 [==============================] - 3s 14ms/step - loss: 0.0086 - accuracy: 0.9993 - val_loss: 7.3839 - val_accuracy: 0.3659\n",
            "Epoch 54/100\n",
            "196/196 [==============================] - 3s 13ms/step - loss: 0.0089 - accuracy: 0.9991 - val_loss: 7.4315 - val_accuracy: 0.3665\n",
            "Epoch 55/100\n",
            "196/196 [==============================] - 3s 13ms/step - loss: 0.0073 - accuracy: 0.9994 - val_loss: 7.5056 - val_accuracy: 0.3650\n",
            "Epoch 56/100\n",
            "196/196 [==============================] - 3s 13ms/step - loss: 0.0073 - accuracy: 0.9993 - val_loss: 7.5846 - val_accuracy: 0.3651\n",
            "Epoch 57/100\n",
            "196/196 [==============================] - 3s 14ms/step - loss: 0.0076 - accuracy: 0.9994 - val_loss: 7.5157 - val_accuracy: 0.3604\n",
            "Epoch 58/100\n",
            "196/196 [==============================] - 3s 13ms/step - loss: 0.0066 - accuracy: 0.9995 - val_loss: 7.5728 - val_accuracy: 0.3677\n",
            "Epoch 59/100\n",
            "196/196 [==============================] - 3s 13ms/step - loss: 0.0087 - accuracy: 0.9991 - val_loss: 7.5998 - val_accuracy: 0.3644\n",
            "Epoch 60/100\n",
            "196/196 [==============================] - 3s 13ms/step - loss: 0.0078 - accuracy: 0.9993 - val_loss: 7.6174 - val_accuracy: 0.3651\n",
            "Epoch 61/100\n",
            "196/196 [==============================] - 3s 13ms/step - loss: 0.0068 - accuracy: 0.9994 - val_loss: 7.6512 - val_accuracy: 0.3628\n",
            "Epoch 62/100\n",
            "196/196 [==============================] - 3s 13ms/step - loss: 0.0063 - accuracy: 0.9996 - val_loss: 7.6816 - val_accuracy: 0.3643\n",
            "Epoch 63/100\n",
            "196/196 [==============================] - 3s 13ms/step - loss: 0.0061 - accuracy: 0.9995 - val_loss: 7.7084 - val_accuracy: 0.3654\n",
            "Epoch 64/100\n",
            "196/196 [==============================] - 3s 13ms/step - loss: 0.0069 - accuracy: 0.9995 - val_loss: 7.6998 - val_accuracy: 0.3651\n",
            "Epoch 65/100\n",
            "196/196 [==============================] - 3s 14ms/step - loss: 0.0064 - accuracy: 0.9995 - val_loss: 7.7945 - val_accuracy: 0.3628\n",
            "Epoch 66/100\n",
            "196/196 [==============================] - 3s 13ms/step - loss: 0.0071 - accuracy: 0.9993 - val_loss: 7.7577 - val_accuracy: 0.3655\n",
            "Epoch 67/100\n",
            "196/196 [==============================] - 3s 13ms/step - loss: 0.0058 - accuracy: 0.9995 - val_loss: 7.8734 - val_accuracy: 0.3653\n",
            "Epoch 68/100\n",
            "196/196 [==============================] - 3s 14ms/step - loss: 0.0056 - accuracy: 0.9995 - val_loss: 7.8290 - val_accuracy: 0.3657\n",
            "Epoch 69/100\n",
            "196/196 [==============================] - 3s 14ms/step - loss: 0.0056 - accuracy: 0.9995 - val_loss: 7.8273 - val_accuracy: 0.3663\n",
            "Epoch 70/100\n",
            "196/196 [==============================] - 3s 13ms/step - loss: 0.0055 - accuracy: 0.9994 - val_loss: 7.8581 - val_accuracy: 0.3649\n",
            "Epoch 71/100\n",
            "196/196 [==============================] - 3s 13ms/step - loss: 0.0060 - accuracy: 0.9995 - val_loss: 7.8505 - val_accuracy: 0.3662\n",
            "Epoch 72/100\n",
            "196/196 [==============================] - 3s 13ms/step - loss: 0.0055 - accuracy: 0.9995 - val_loss: 7.9556 - val_accuracy: 0.3650\n",
            "Epoch 73/100\n",
            "196/196 [==============================] - 3s 14ms/step - loss: 0.0050 - accuracy: 0.9996 - val_loss: 7.9152 - val_accuracy: 0.3655\n",
            "Epoch 74/100\n",
            "196/196 [==============================] - 3s 14ms/step - loss: 0.0048 - accuracy: 0.9997 - val_loss: 7.9180 - val_accuracy: 0.3640\n",
            "Epoch 75/100\n",
            "196/196 [==============================] - 3s 13ms/step - loss: 0.0052 - accuracy: 0.9996 - val_loss: 7.9450 - val_accuracy: 0.3687\n",
            "Epoch 76/100\n",
            "196/196 [==============================] - 3s 14ms/step - loss: 0.0065 - accuracy: 0.9994 - val_loss: 7.9563 - val_accuracy: 0.3642\n",
            "Epoch 77/100\n",
            "196/196 [==============================] - 3s 14ms/step - loss: 0.0053 - accuracy: 0.9995 - val_loss: 7.9807 - val_accuracy: 0.3658\n",
            "Epoch 78/100\n",
            "196/196 [==============================] - 3s 13ms/step - loss: 0.0051 - accuracy: 0.9995 - val_loss: 8.0562 - val_accuracy: 0.3607\n",
            "Epoch 79/100\n",
            "196/196 [==============================] - 3s 14ms/step - loss: 0.0051 - accuracy: 0.9995 - val_loss: 7.9902 - val_accuracy: 0.3641\n",
            "Epoch 80/100\n",
            "196/196 [==============================] - 3s 14ms/step - loss: 0.0052 - accuracy: 0.9995 - val_loss: 8.0768 - val_accuracy: 0.3630\n",
            "Epoch 81/100\n",
            "196/196 [==============================] - 3s 13ms/step - loss: 0.0050 - accuracy: 0.9995 - val_loss: 8.0307 - val_accuracy: 0.3632\n",
            "Epoch 82/100\n",
            "196/196 [==============================] - 3s 14ms/step - loss: 0.0051 - accuracy: 0.9995 - val_loss: 8.0108 - val_accuracy: 0.3674\n",
            "Epoch 83/100\n",
            "196/196 [==============================] - 3s 13ms/step - loss: 0.0052 - accuracy: 0.9995 - val_loss: 8.0525 - val_accuracy: 0.3611\n",
            "Epoch 84/100\n",
            "196/196 [==============================] - 3s 14ms/step - loss: 0.0035 - accuracy: 0.9997 - val_loss: 8.1021 - val_accuracy: 0.3670\n",
            "Epoch 85/100\n",
            "196/196 [==============================] - 3s 13ms/step - loss: 0.0039 - accuracy: 0.9996 - val_loss: 8.1247 - val_accuracy: 0.3652\n",
            "Epoch 86/100\n",
            "196/196 [==============================] - 3s 13ms/step - loss: 0.0048 - accuracy: 0.9994 - val_loss: 8.1138 - val_accuracy: 0.3671\n",
            "Epoch 87/100\n",
            "196/196 [==============================] - 3s 13ms/step - loss: 0.0038 - accuracy: 0.9997 - val_loss: 8.1464 - val_accuracy: 0.3678\n",
            "Epoch 88/100\n",
            "196/196 [==============================] - 3s 13ms/step - loss: 0.0043 - accuracy: 0.9996 - val_loss: 8.1270 - val_accuracy: 0.3667\n",
            "Epoch 89/100\n",
            "196/196 [==============================] - 3s 13ms/step - loss: 0.0039 - accuracy: 0.9996 - val_loss: 8.1742 - val_accuracy: 0.3642\n",
            "Epoch 90/100\n",
            "196/196 [==============================] - 3s 14ms/step - loss: 0.0034 - accuracy: 0.9997 - val_loss: 8.1704 - val_accuracy: 0.3660\n",
            "Epoch 91/100\n",
            "196/196 [==============================] - 3s 13ms/step - loss: 0.0042 - accuracy: 0.9996 - val_loss: 8.2208 - val_accuracy: 0.3681\n",
            "Epoch 92/100\n",
            "196/196 [==============================] - 3s 13ms/step - loss: 0.0036 - accuracy: 0.9997 - val_loss: 8.2192 - val_accuracy: 0.3637\n",
            "Epoch 93/100\n",
            "196/196 [==============================] - 3s 14ms/step - loss: 0.0042 - accuracy: 0.9996 - val_loss: 8.2045 - val_accuracy: 0.3669\n",
            "Epoch 94/100\n",
            "196/196 [==============================] - 3s 14ms/step - loss: 0.0037 - accuracy: 0.9997 - val_loss: 8.1726 - val_accuracy: 0.3649\n",
            "Epoch 95/100\n",
            "196/196 [==============================] - 3s 13ms/step - loss: 0.0038 - accuracy: 0.9997 - val_loss: 8.2900 - val_accuracy: 0.3626\n",
            "Epoch 96/100\n",
            "196/196 [==============================] - 3s 13ms/step - loss: 0.0042 - accuracy: 0.9996 - val_loss: 8.1879 - val_accuracy: 0.3678\n",
            "Epoch 97/100\n",
            "196/196 [==============================] - 3s 13ms/step - loss: 0.0038 - accuracy: 0.9996 - val_loss: 8.2381 - val_accuracy: 0.3656\n",
            "Epoch 98/100\n",
            "196/196 [==============================] - 3s 13ms/step - loss: 0.0035 - accuracy: 0.9997 - val_loss: 8.2720 - val_accuracy: 0.3665\n",
            "Epoch 99/100\n",
            "196/196 [==============================] - 3s 13ms/step - loss: 0.0036 - accuracy: 0.9997 - val_loss: 8.2524 - val_accuracy: 0.3664\n",
            "Epoch 100/100\n",
            "196/196 [==============================] - 3s 13ms/step - loss: 0.0038 - accuracy: 0.9996 - val_loss: 8.2592 - val_accuracy: 0.3685\n"
          ]
        }
      ]
    },
    {
      "cell_type": "code",
      "source": [
        ""
      ],
      "metadata": {
        "id": "-_ZE-E08uvM7"
      },
      "execution_count": null,
      "outputs": []
    }
  ]
}